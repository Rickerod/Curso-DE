{
 "cells": [
  {
   "cell_type": "markdown",
   "id": "dc5f3a58",
   "metadata": {},
   "source": [
    "### Entregable 1"
   ]
  },
  {
   "cell_type": "code",
   "execution_count": null,
   "id": "58d4f00d",
   "metadata": {},
   "outputs": [],
   "source": [
    "import requests\n",
    "import json\n",
    "response_API = requests.get(\"https://chilealerta.com/api/query/?user=demo&select=ultimos_sismos&limit=100&country=Chile\")\n",
    "print(response_API.status_code)"
   ]
  },
  {
   "cell_type": "code",
   "execution_count": null,
   "id": "6eea9f2b",
   "metadata": {},
   "outputs": [],
   "source": [
    "#JSON a diccionario\n",
    "ultimos_sismos = json.loads(response_API.text)\n",
    "ultimos_sismos = ultimos_sismos['ultimos_sismos_Chile']\n",
    "ultimos_sismos[0:5]"
   ]
  },
  {
   "cell_type": "markdown",
   "id": "e6b1382e",
   "metadata": {},
   "source": [
    "### Entregable 2"
   ]
  },
  {
   "cell_type": "code",
   "execution_count": null,
   "id": "a34dc73c",
   "metadata": {},
   "outputs": [],
   "source": [
    "#!pip install python-dotenv"
   ]
  },
  {
   "cell_type": "code",
   "execution_count": null,
   "id": "11778518",
   "metadata": {},
   "outputs": [],
   "source": [
    "from dotenv import load_dotenv\n",
    "load_dotenv()"
   ]
  },
  {
   "cell_type": "code",
   "execution_count": null,
   "id": "c6ab7813",
   "metadata": {},
   "outputs": [],
   "source": [
    "import os \n",
    "\n",
    "url= os.getenv('URL')\n",
    "data_base= os.getenv('DATA_BASE')\n",
    "user= os.getenv('USER')\n",
    "pwd= os.getenv('PWD')\n",
    "port = os.getenv('PORT')"
   ]
  },
  {
   "cell_type": "code",
   "execution_count": null,
   "id": "78efb1c1",
   "metadata": {},
   "outputs": [],
   "source": [
    "# Creando la conexión a Redsshift\n",
    "import psycopg2\n",
    "try:\n",
    "    conn = psycopg2.connect(\n",
    "        host=url,\n",
    "        dbname=data_base,\n",
    "        user=user,\n",
    "        password=pwd,\n",
    "        port=port\n",
    "    )\n",
    "    print(\"¡Conexión existosa!\")\n",
    "    \n",
    "except Exception as e:\n",
    "    print(\"¡Conexión invalida!\", e)"
   ]
  },
  {
   "cell_type": "code",
   "execution_count": null,
   "id": "99f6d9f8",
   "metadata": {},
   "outputs": [],
   "source": [
    "#Crear la tabla si no existe\n",
    "with conn.cursor() as cur:\n",
    "    cur.execute(\"\"\"\n",
    "        CREATE TABLE IF NOT EXISTS sfparevalo_coderhouse.earthquake (\n",
    "            id INTEGER primary key,\n",
    "            state_earthquake INTEGER,\n",
    "            utc_time TIMESTAMP,\n",
    "            reference VARCHAR(255),\n",
    "            magnitude DECIMAL(5, 2),\n",
    "            scale_earthquake VARCHAR(5),\n",
    "            latitude DECIMAL(8, 4),\n",
    "            longitude DECIMAL(8, 4),\n",
    "            depth_earthquake DECIMAL(8, 2)\n",
    "        ) DISTSTYLE EVEN SORTKEY (utc_time);\n",
    "    \"\"\")\n",
    "    conn.commit()"
   ]
  },
  {
   "cell_type": "code",
   "execution_count": null,
   "id": "6fc06db8",
   "metadata": {},
   "outputs": [],
   "source": [
    "import pandas as pd\n",
    "#Consultar la ultima fecha del ultimo sismo registrado en la base de datos.\n",
    "with conn.cursor() as cur:\n",
    "    cur.execute('''\n",
    "        SELECT utc_time\n",
    "        FROM earthquake\n",
    "        ORDER BY utc_time DESC\n",
    "        LIMIT 1;\n",
    "        ''')\n",
    "    ultima_fecha = cur.fetchone()\n",
    "    if ultima_fecha is None:\n",
    "        ultima_fecha = pd.Timestamp.min #Fecha mas baja tipo Timestamp.\n",
    "    else:\n",
    "        ultima_fecha = ultima_fecha[0]\n",
    "        \n"
   ]
  },
  {
   "cell_type": "code",
   "execution_count": null,
   "id": "4eb3d88d",
   "metadata": {},
   "outputs": [],
   "source": [
    "print(ultima_fecha)"
   ]
  },
  {
   "cell_type": "code",
   "execution_count": 1,
   "id": "8e9f39f6",
   "metadata": {},
   "outputs": [
    {
     "data": {
      "text/plain": [
       "'\\n#Vaciar la tabla para evitar duplicados o inconsistencias\\nwith conn.cursor() as cur:\\n    cur.execute(\"Truncate table earthquake\")\\n    count = cur.rowcount\\n'"
      ]
     },
     "execution_count": 1,
     "metadata": {},
     "output_type": "execute_result"
    }
   ],
   "source": [
    "\"\"\"\n",
    "#Vaciar la tabla para evitar duplicados o inconsistencias\n",
    "with conn.cursor() as cur:\n",
    "    cur.execute(\"Truncate table earthquake\")\n",
    "    count = cur.rowcount\n",
    "\"\"\""
   ]
  },
  {
   "cell_type": "code",
   "execution_count": null,
   "id": "300ede29",
   "metadata": {},
   "outputs": [],
   "source": [
    "df = pd.DataFrame(ultimos_sismos)"
   ]
  },
  {
   "cell_type": "code",
   "execution_count": null,
   "id": "413b9a30",
   "metadata": {},
   "outputs": [],
   "source": [
    "#Eliminar elementos duplicados\n",
    "df.drop_duplicates(subset=['id'], inplace=True)"
   ]
  },
  {
   "cell_type": "code",
   "execution_count": null,
   "id": "f04510d4",
   "metadata": {},
   "outputs": [],
   "source": [
    "#Transformar el campo fecha a tipo fecha.\n",
    "df['utc_time']= pd.to_datetime(df['utc_time'], format='%Y-%m-%d %H:%M:%S')"
   ]
  },
  {
   "cell_type": "code",
   "execution_count": null,
   "id": "e9e12d83",
   "metadata": {},
   "outputs": [],
   "source": [
    "df.dtypes"
   ]
  },
  {
   "cell_type": "code",
   "execution_count": null,
   "id": "70fb0c02",
   "metadata": {},
   "outputs": [],
   "source": [
    "# Verificar si hay datos nulos en cada columna\n",
    "df.isnull().sum()"
   ]
  },
  {
   "cell_type": "code",
   "execution_count": null,
   "id": "2a6c3472",
   "metadata": {},
   "outputs": [],
   "source": [
    "# Eliminar registros que posean valores nulos \n",
    "df = df.dropna(how='any',axis=0)"
   ]
  },
  {
   "cell_type": "code",
   "execution_count": null,
   "id": "6d6e43d0",
   "metadata": {},
   "outputs": [],
   "source": [
    "#Considerar datos que se van a guardar en la base de datos.\n",
    "df = df[['id', 'state', 'utc_time', 'reference', 'magnitude', 'scale', 'latitude', 'longitude', 'depth']]\n",
    "df.head()"
   ]
  },
  {
   "cell_type": "code",
   "execution_count": null,
   "id": "1bef3ddb",
   "metadata": {},
   "outputs": [],
   "source": [
    "# Considerar solo los nuevos sismos desde la ultima fecha guardada en la base de datos\n",
    "df = df[df['utc_time'] > ultima_fecha]\n",
    "df"
   ]
  },
  {
   "cell_type": "code",
   "execution_count": null,
   "id": "98fa9ddd",
   "metadata": {},
   "outputs": [],
   "source": [
    "#Filtrar para los sismos con una magnitud mayor a 5mb escala richter.\n",
    "df_magnitude = df[df['magnitude'] > 5]\n",
    "df_magnitude"
   ]
  },
  {
   "cell_type": "code",
   "execution_count": null,
   "id": "1ee77422",
   "metadata": {},
   "outputs": [],
   "source": [
    "import smtplib\n",
    "from email.mime.text import MIMEText\n",
    "\n",
    "def send_email(subject, body, sender, recipients, password):\n",
    "    msg = MIMEText(body)\n",
    "    msg['Subject'] = subject\n",
    "    msg['From'] = sender\n",
    "    msg['To'] = ', '.join(recipients)\n",
    "    with smtplib.SMTP_SSL('smtp.gmail.com', 465) as smtp_server:\n",
    "        smtp_server.login(sender, password)\n",
    "        smtp_server.sendmail(sender, recipients, msg.as_string())\n",
    "    print(\"Message sent!\")\n"
   ]
  },
  {
   "cell_type": "code",
   "execution_count": null,
   "id": "5c57022d",
   "metadata": {},
   "outputs": [],
   "source": [
    "#Si existen sismos con una magnitud mayor a 5 grados en al escala de richter, se envia el correo.\n",
    "\n",
    "if(df_magnitude.shape[0] > 0):\n",
    "    sismos_string = \"\"\n",
    "    for index, row in df_magnitude.iterrows():  \n",
    "        sismos_string += f\"Fecha: {row['utc_time']} UTC, Lugar: {row['reference']}, Magnitud: {row['magnitude']} grados escala richter\\n\"\n",
    "    subject = \"Ultimos sismos - Magnitudes mayor a 5, escala richter\"\n",
    "    body = sismos_string\n",
    "    sender = \"pitersito5647@gmail.com\"\n",
    "    recipients = [\"pitersito5647@gmail.com\"]\n",
    "    password = \"jjsu ikuc ghcl mpgq\"\n",
    "    send_email(subject, body, sender, recipients, password)\n",
    "else:\n",
    "    print(\"No hubieron sismos mayores a 5 grados en la escala de richter\")\n",
    "    "
   ]
  },
  {
   "cell_type": "code",
   "execution_count": null,
   "id": "f7fdaf68",
   "metadata": {},
   "outputs": [],
   "source": [
    "from psycopg2.extras import execute_values\n",
    "\n",
    "tuple_rows = [tuple(row) for row in df.values]\n",
    "with conn.cursor() as cur:\n",
    "    try:\n",
    "        execute_values(\n",
    "            cur,\n",
    "            '''\n",
    "            INSERT INTO earthquake (id, state_earthquake, utc_time, reference, magnitude, scale_earthquake, latitude, longitude, depth_earthquake) \n",
    "            VALUES %s \n",
    "            ''',\n",
    "            tuple_rows\n",
    "        )\n",
    "        conn.commit()\n",
    "        print(\"¡Datos ingresados satisfactoriamente!\")\n",
    "    except psycopg2.Error as err:\n",
    "        print(err)\n"
   ]
  },
  {
   "cell_type": "code",
   "execution_count": null,
   "id": "b21e3a1e",
   "metadata": {},
   "outputs": [],
   "source": [
    "#Cerrar conexión\n",
    "cur.close()\n",
    "conn.close()"
   ]
  },
  {
   "cell_type": "code",
   "execution_count": null,
   "id": "df19f76d",
   "metadata": {},
   "outputs": [],
   "source": []
  }
 ],
 "metadata": {
  "kernelspec": {
   "display_name": "Python 3 (ipykernel)",
   "language": "python",
   "name": "python3"
  },
  "language_info": {
   "codemirror_mode": {
    "name": "ipython",
    "version": 3
   },
   "file_extension": ".py",
   "mimetype": "text/x-python",
   "name": "python",
   "nbconvert_exporter": "python",
   "pygments_lexer": "ipython3",
   "version": "3.11.5"
  }
 },
 "nbformat": 4,
 "nbformat_minor": 5
}
