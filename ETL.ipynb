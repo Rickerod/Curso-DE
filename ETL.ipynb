{
 "cells": [
  {
   "cell_type": "markdown",
   "id": "dc5f3a58",
   "metadata": {},
   "source": [
    "### Entregable 1"
   ]
  },
  {
   "cell_type": "code",
   "execution_count": 1,
   "id": "58d4f00d",
   "metadata": {},
   "outputs": [
    {
     "name": "stdout",
     "output_type": "stream",
     "text": [
      "200\n"
     ]
    }
   ],
   "source": [
    "import requests\n",
    "import json\n",
    "response_API = requests.get(\"https://chilealerta.com/api/query/?user=demo&select=ultimos_sismos&limit=100&country=Chile\")\n",
    "print(response_API.status_code)"
   ]
  },
  {
   "cell_type": "code",
   "execution_count": 2,
   "id": "6eea9f2b",
   "metadata": {},
   "outputs": [
    {
     "data": {
      "text/plain": [
       "[{'state': 1,\n",
       "  'utc_time': '2023/03/23 21:24:11',\n",
       "  'local_time': '2023-03-23 18:24:11',\n",
       "  'chilean_time': '2023/03/23 18:24:11',\n",
       "  'reference': '159 km al E de Chillán - Chile',\n",
       "  'magnitude': 4.5,\n",
       "  'scale': 'Mb',\n",
       "  'latitude': -36.69,\n",
       "  'longitude': -70.33,\n",
       "  'depth': 157,\n",
       "  'id': '26060595',\n",
       "  'url': 'http://sismologia.net/?p=detalles&id=26060595',\n",
       "  'source': 'INSIMU'},\n",
       " {'state': 1,\n",
       "  'utc_time': '2023/03/23 05:43:53',\n",
       "  'local_time': '2023-03-23 02:43:53',\n",
       "  'chilean_time': '2023/03/23 02:43:53',\n",
       "  'reference': '61 km al E de Rancagua - Chile',\n",
       "  'magnitude': 4.2,\n",
       "  'scale': 'Mb',\n",
       "  'latitude': -34.11,\n",
       "  'longitude': -70.09,\n",
       "  'depth': 129,\n",
       "  'id': '82068640',\n",
       "  'url': 'http://sismologia.net/?p=detalles&id=82068640',\n",
       "  'source': 'INSIMU'},\n",
       " {'state': 1,\n",
       "  'utc_time': '2023/03/22 15:38:37',\n",
       "  'local_time': '2023-03-22 12:38:37',\n",
       "  'chilean_time': '2023/03/22 12:38:37',\n",
       "  'reference': '171 km al NE de Antofagasta - Chile',\n",
       "  'magnitude': 4.5,\n",
       "  'scale': 'Mb',\n",
       "  'latitude': -22.72,\n",
       "  'longitude': -69.06,\n",
       "  'depth': 110,\n",
       "  'id': '43003785',\n",
       "  'url': 'http://sismologia.net/?p=detalles&id=43003785',\n",
       "  'source': 'INSIMU'},\n",
       " {'state': 1,\n",
       "  'utc_time': '2023/03/22 13:36:08',\n",
       "  'local_time': '2023-03-22 10:36:08',\n",
       "  'chilean_time': '2023/03/22 10:36:08',\n",
       "  'reference': '113 km al NO de La Serena - Chile',\n",
       "  'magnitude': 4.4,\n",
       "  'scale': 'Mb',\n",
       "  'latitude': -29.69,\n",
       "  'longitude': -72.39,\n",
       "  'depth': 10,\n",
       "  'id': '34055540',\n",
       "  'url': 'http://sismologia.net/?p=detalles&id=34055540',\n",
       "  'source': 'INSIMU'},\n",
       " {'state': 2,\n",
       "  'utc_time': '2023/03/21 17:38:13',\n",
       "  'local_time': '2023-03-21 14:38:13',\n",
       "  'chilean_time': '2023/03/21 14:38:13',\n",
       "  'reference': '68 km al SO de Santiago de Chile - Chile',\n",
       "  'magnitude': 5.6,\n",
       "  'scale': 'Mb',\n",
       "  'latitude': -33.6103,\n",
       "  'longitude': -71.3517,\n",
       "  'depth': 65.05,\n",
       "  'id': '88705756',\n",
       "  'url': 'http://sismologia.net/?p=detalles&id=88705756',\n",
       "  'source': 'INSIMU'}]"
      ]
     },
     "execution_count": 2,
     "metadata": {},
     "output_type": "execute_result"
    }
   ],
   "source": [
    "#JSON a diccionario\n",
    "ultimos_sismos = json.loads(response_API.text)\n",
    "ultimos_sismos = ultimos_sismos['ultimos_sismos_Chile']\n",
    "ultimos_sismos[0:5]"
   ]
  },
  {
   "cell_type": "markdown",
   "id": "e6b1382e",
   "metadata": {},
   "source": [
    "### Entregable 2"
   ]
  },
  {
   "cell_type": "code",
   "execution_count": 3,
   "id": "a34dc73c",
   "metadata": {},
   "outputs": [],
   "source": [
    "#!pip install python-dotenv"
   ]
  },
  {
   "cell_type": "code",
   "execution_count": 4,
   "id": "11778518",
   "metadata": {},
   "outputs": [
    {
     "data": {
      "text/plain": [
       "True"
      ]
     },
     "execution_count": 4,
     "metadata": {},
     "output_type": "execute_result"
    }
   ],
   "source": [
    "from dotenv import load_dotenv\n",
    "load_dotenv()"
   ]
  },
  {
   "cell_type": "code",
   "execution_count": 5,
   "id": "c6ab7813",
   "metadata": {},
   "outputs": [],
   "source": [
    "import os \n",
    "\n",
    "url= os.getenv('URL')\n",
    "data_base= os.getenv('DATA_BASE')\n",
    "user= os.getenv('USER')\n",
    "pwd= os.getenv('PWD')\n",
    "port = os.getenv('PORT')"
   ]
  },
  {
   "cell_type": "code",
   "execution_count": 6,
   "id": "78efb1c1",
   "metadata": {},
   "outputs": [
    {
     "name": "stdout",
     "output_type": "stream",
     "text": [
      "¡Conexión existosa!\n"
     ]
    }
   ],
   "source": [
    "# Creando la conexión a Redsshift\n",
    "import psycopg2\n",
    "try:\n",
    "    conn = psycopg2.connect(\n",
    "        host=url,\n",
    "        dbname=data_base,\n",
    "        user=user,\n",
    "        password=pwd,\n",
    "        port=port\n",
    "    )\n",
    "    print(\"¡Conexión existosa!\")\n",
    "    \n",
    "except Exception as e:\n",
    "    print(\"¡Conexión invalida!\", e)"
   ]
  },
  {
   "cell_type": "code",
   "execution_count": 7,
   "id": "99f6d9f8",
   "metadata": {},
   "outputs": [],
   "source": [
    "#Crear la tabla si no existe\n",
    "with conn.cursor() as cur:\n",
    "    cur.execute(\"\"\"\n",
    "        CREATE TABLE IF NOT EXISTS sfparevalo_coderhouse.earthquake (\n",
    "            id INTEGER primary key,\n",
    "            state_earthquake INTEGER,\n",
    "            utc_time TIMESTAMP,\n",
    "            reference VARCHAR(255),\n",
    "            magnitude DECIMAL(5, 2),\n",
    "            scale_earthquake VARCHAR(5),\n",
    "            latitude DECIMAL(8, 4),\n",
    "            longitude DECIMAL(8, 4),\n",
    "            depth_earthquake DECIMAL(8, 2)\n",
    "        );\n",
    "    \"\"\")\n",
    "    conn.commit()"
   ]
  },
  {
   "cell_type": "code",
   "execution_count": 8,
   "id": "8e9f39f6",
   "metadata": {},
   "outputs": [],
   "source": [
    "#Vaciar la tabla para evitar duplicados o inconsistencias\n",
    "with conn.cursor() as cur:\n",
    "    cur.execute(\"Truncate table earthquake\")\n",
    "    count = cur.rowcount"
   ]
  },
  {
   "cell_type": "code",
   "execution_count": 10,
   "id": "300ede29",
   "metadata": {},
   "outputs": [],
   "source": [
    "import pandas as pd\n",
    "df = pd.DataFrame(ultimos_sismos)"
   ]
  },
  {
   "cell_type": "code",
   "execution_count": 11,
   "id": "413b9a30",
   "metadata": {},
   "outputs": [],
   "source": [
    "#Eliminar elementos duplicados\n",
    "df.drop_duplicates(subset=['id'], inplace=True)"
   ]
  },
  {
   "cell_type": "code",
   "execution_count": 12,
   "id": "f04510d4",
   "metadata": {},
   "outputs": [],
   "source": [
    "#Transformar el campo fecha a tipo fecha.\n",
    "df['utc_time']= pd.to_datetime(df['utc_time'], format='%Y-%m-%d %H:%M:%S')"
   ]
  },
  {
   "cell_type": "code",
   "execution_count": 13,
   "id": "e9e12d83",
   "metadata": {},
   "outputs": [
    {
     "data": {
      "text/plain": [
       "state                    int64\n",
       "utc_time        datetime64[ns]\n",
       "local_time              object\n",
       "chilean_time            object\n",
       "reference               object\n",
       "magnitude              float64\n",
       "scale                   object\n",
       "latitude               float64\n",
       "longitude              float64\n",
       "depth                  float64\n",
       "id                      object\n",
       "url                     object\n",
       "source                  object\n",
       "dtype: object"
      ]
     },
     "execution_count": 13,
     "metadata": {},
     "output_type": "execute_result"
    }
   ],
   "source": [
    "df.dtypes"
   ]
  },
  {
   "cell_type": "code",
   "execution_count": 14,
   "id": "70fb0c02",
   "metadata": {},
   "outputs": [
    {
     "data": {
      "text/plain": [
       "state           0\n",
       "utc_time        0\n",
       "local_time      0\n",
       "chilean_time    0\n",
       "reference       0\n",
       "magnitude       0\n",
       "scale           0\n",
       "latitude        0\n",
       "longitude       0\n",
       "depth           0\n",
       "id              0\n",
       "url             0\n",
       "source          0\n",
       "dtype: int64"
      ]
     },
     "execution_count": 14,
     "metadata": {},
     "output_type": "execute_result"
    }
   ],
   "source": [
    "# Verificar si hay datos nulos en cada columna\n",
    "df.isnull().sum()"
   ]
  },
  {
   "cell_type": "code",
   "execution_count": 15,
   "id": "2a6c3472",
   "metadata": {},
   "outputs": [],
   "source": [
    "# Eliminar registros que posean valores nulos \n",
    "df = df.dropna(how='any',axis=0)"
   ]
  },
  {
   "cell_type": "code",
   "execution_count": 16,
   "id": "6d6e43d0",
   "metadata": {},
   "outputs": [
    {
     "data": {
      "text/html": [
       "<div>\n",
       "<style scoped>\n",
       "    .dataframe tbody tr th:only-of-type {\n",
       "        vertical-align: middle;\n",
       "    }\n",
       "\n",
       "    .dataframe tbody tr th {\n",
       "        vertical-align: top;\n",
       "    }\n",
       "\n",
       "    .dataframe thead th {\n",
       "        text-align: right;\n",
       "    }\n",
       "</style>\n",
       "<table border=\"1\" class=\"dataframe\">\n",
       "  <thead>\n",
       "    <tr style=\"text-align: right;\">\n",
       "      <th></th>\n",
       "      <th>id</th>\n",
       "      <th>state</th>\n",
       "      <th>utc_time</th>\n",
       "      <th>reference</th>\n",
       "      <th>magnitude</th>\n",
       "      <th>scale</th>\n",
       "      <th>latitude</th>\n",
       "      <th>longitude</th>\n",
       "      <th>depth</th>\n",
       "    </tr>\n",
       "  </thead>\n",
       "  <tbody>\n",
       "    <tr>\n",
       "      <th>0</th>\n",
       "      <td>26060595</td>\n",
       "      <td>1</td>\n",
       "      <td>2023-03-23 21:24:11</td>\n",
       "      <td>159 km al E de Chillán - Chile</td>\n",
       "      <td>4.5</td>\n",
       "      <td>Mb</td>\n",
       "      <td>-36.6900</td>\n",
       "      <td>-70.3300</td>\n",
       "      <td>157.00</td>\n",
       "    </tr>\n",
       "    <tr>\n",
       "      <th>1</th>\n",
       "      <td>82068640</td>\n",
       "      <td>1</td>\n",
       "      <td>2023-03-23 05:43:53</td>\n",
       "      <td>61 km al E de Rancagua - Chile</td>\n",
       "      <td>4.2</td>\n",
       "      <td>Mb</td>\n",
       "      <td>-34.1100</td>\n",
       "      <td>-70.0900</td>\n",
       "      <td>129.00</td>\n",
       "    </tr>\n",
       "    <tr>\n",
       "      <th>2</th>\n",
       "      <td>43003785</td>\n",
       "      <td>1</td>\n",
       "      <td>2023-03-22 15:38:37</td>\n",
       "      <td>171 km al NE de Antofagasta - Chile</td>\n",
       "      <td>4.5</td>\n",
       "      <td>Mb</td>\n",
       "      <td>-22.7200</td>\n",
       "      <td>-69.0600</td>\n",
       "      <td>110.00</td>\n",
       "    </tr>\n",
       "    <tr>\n",
       "      <th>3</th>\n",
       "      <td>34055540</td>\n",
       "      <td>1</td>\n",
       "      <td>2023-03-22 13:36:08</td>\n",
       "      <td>113 km al NO de La Serena - Chile</td>\n",
       "      <td>4.4</td>\n",
       "      <td>Mb</td>\n",
       "      <td>-29.6900</td>\n",
       "      <td>-72.3900</td>\n",
       "      <td>10.00</td>\n",
       "    </tr>\n",
       "    <tr>\n",
       "      <th>4</th>\n",
       "      <td>88705756</td>\n",
       "      <td>2</td>\n",
       "      <td>2023-03-21 17:38:13</td>\n",
       "      <td>68 km al SO de Santiago de Chile - Chile</td>\n",
       "      <td>5.6</td>\n",
       "      <td>Mb</td>\n",
       "      <td>-33.6103</td>\n",
       "      <td>-71.3517</td>\n",
       "      <td>65.05</td>\n",
       "    </tr>\n",
       "  </tbody>\n",
       "</table>\n",
       "</div>"
      ],
      "text/plain": [
       "         id  state            utc_time  \\\n",
       "0  26060595      1 2023-03-23 21:24:11   \n",
       "1  82068640      1 2023-03-23 05:43:53   \n",
       "2  43003785      1 2023-03-22 15:38:37   \n",
       "3  34055540      1 2023-03-22 13:36:08   \n",
       "4  88705756      2 2023-03-21 17:38:13   \n",
       "\n",
       "                                  reference  magnitude scale  latitude  \\\n",
       "0            159 km al E de Chillán - Chile        4.5    Mb  -36.6900   \n",
       "1            61 km al E de Rancagua - Chile        4.2    Mb  -34.1100   \n",
       "2       171 km al NE de Antofagasta - Chile        4.5    Mb  -22.7200   \n",
       "3         113 km al NO de La Serena - Chile        4.4    Mb  -29.6900   \n",
       "4  68 km al SO de Santiago de Chile - Chile        5.6    Mb  -33.6103   \n",
       "\n",
       "   longitude   depth  \n",
       "0   -70.3300  157.00  \n",
       "1   -70.0900  129.00  \n",
       "2   -69.0600  110.00  \n",
       "3   -72.3900   10.00  \n",
       "4   -71.3517   65.05  "
      ]
     },
     "execution_count": 16,
     "metadata": {},
     "output_type": "execute_result"
    }
   ],
   "source": [
    "#Considerar datos que se van a guardar en la base de datos.\n",
    "df = df[['id', 'state', 'utc_time', 'reference', 'magnitude', 'scale', 'latitude', 'longitude', 'depth']]\n",
    "df.head()"
   ]
  },
  {
   "cell_type": "code",
   "execution_count": 17,
   "id": "d783b017",
   "metadata": {},
   "outputs": [
    {
     "name": "stdout",
     "output_type": "stream",
     "text": [
      "¡Datos ingresados satisfactoriamente!\n"
     ]
    }
   ],
   "source": [
    "#Insertando los datos en Redsfhift\n",
    "from psycopg2.extras import execute_values\n",
    "with conn.cursor() as cur:\n",
    "    try:\n",
    "        execute_values(\n",
    "            cur,\n",
    "            '''\n",
    "            INSERT INTO earthquake (id, state_earthquake, utc_time, reference, magnitude, scale_earthquake, latitude, longitude, depth_earthquake)\n",
    "            VALUES %s\n",
    "            ''',\n",
    "            [tuple(row) for row in df.values],\n",
    "            page_size=len(df)\n",
    "        )\n",
    "        conn.commit()\n",
    "        print(\"¡Datos ingresados satisfactoriamente!\")\n",
    "    except Exception as err:\n",
    "        print(f\"Unexpected {err=}, {type(err)=}\")\n",
    "        "
   ]
  },
  {
   "cell_type": "code",
   "execution_count": 18,
   "id": "b21e3a1e",
   "metadata": {},
   "outputs": [],
   "source": [
    "#Cerrar conexión\n",
    "cur.close()\n",
    "conn.close()"
   ]
  },
  {
   "cell_type": "code",
   "execution_count": null,
   "id": "6878286e",
   "metadata": {},
   "outputs": [],
   "source": []
  }
 ],
 "metadata": {
  "kernelspec": {
   "display_name": "Python 3 (ipykernel)",
   "language": "python",
   "name": "python3"
  },
  "language_info": {
   "codemirror_mode": {
    "name": "ipython",
    "version": 3
   },
   "file_extension": ".py",
   "mimetype": "text/x-python",
   "name": "python",
   "nbconvert_exporter": "python",
   "pygments_lexer": "ipython3",
   "version": "3.11.5"
  }
 },
 "nbformat": 4,
 "nbformat_minor": 5
}
